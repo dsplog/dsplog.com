{
 "cells": [
  {
   "cell_type": "markdown",
   "id": "9e6a097a",
   "metadata": {},
   "source": [
    "### Gradients in Binary Cross Entropy Loss"
   ]
  },
  {
   "cell_type": "code",
   "execution_count": 8,
   "id": "d1536bd7",
   "metadata": {},
   "outputs": [
    {
     "name": "stdout",
     "output_type": "stream",
     "text": [
      "PyTorch grad w:\n",
      " tensor([[-0.8674],\n",
      "        [-1.1565]])\n",
      "Manual grad w:\n",
      " tensor([[-0.8674],\n",
      "        [-1.1565]])\n",
      "PyTorch grad b:\n",
      " tensor([-0.2891])\n",
      "Manual grad b:\n",
      " tensor(-0.2891)\n"
     ]
    }
   ],
   "source": [
    "import torch\n",
    "\n",
    "# x: features x samples (2 x 3)\n",
    "x = torch.tensor([[1.0, 3.0, 5.0],\n",
    "                  [2.0, 4.0, 6.0]], requires_grad=False)\n",
    "\n",
    "# y: 1 x samples\n",
    "y = torch.tensor([[1.0, 0.0, 1.0]])  # shape (1, 3)\n",
    "\n",
    "# weights: features x 1\n",
    "w = torch.tensor([[0.5], [-0.5]], requires_grad=True)\n",
    "b = torch.tensor([0.0], requires_grad=True)\n",
    "\n",
    "# Forward: z = w^T x + b\n",
    "z = w.T @ x + b  # shape (1, 3)\n",
    "a = torch.sigmoid(z)\n",
    "\n",
    "# BCE loss averaged over samples\n",
    "loss = -(y * torch.log(a) + (1 - y) * torch.log(1 - a)).mean()\n",
    "\n",
    "loss.backward()\n",
    "\n",
    "with torch.no_grad():\n",
    "    grad_z = a - y  # shape (1, 3)\n",
    "    grad_w_manual = (x @ grad_z.T) / x.shape[1]  # (2,3) @ (3,1) = (2,1)\n",
    "    grad_b_manual = grad_z.mean()\n",
    "\n",
    "print(\"PyTorch grad w:\\n\", w.grad)\n",
    "print(\"Manual grad w:\\n\", grad_w_manual)\n",
    "print(\"PyTorch grad b:\\n\", b.grad)\n",
    "print(\"Manual grad b:\\n\", grad_b_manual)\n"
   ]
  }
 ],
 "metadata": {
  "kernelspec": {
   "display_name": "Python 3 (ipykernel)",
   "language": "python",
   "name": "python3"
  },
  "language_info": {
   "codemirror_mode": {
    "name": "ipython",
    "version": 3
   },
   "file_extension": ".py",
   "mimetype": "text/x-python",
   "name": "python",
   "nbconvert_exporter": "python",
   "pygments_lexer": "ipython3",
   "version": "3.10.14"
  }
 },
 "nbformat": 4,
 "nbformat_minor": 5
}
