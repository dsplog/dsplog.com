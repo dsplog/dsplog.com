{
 "cells": [
  {
   "cell_type": "markdown",
   "metadata": {},
   "source": [
    "## Gradients - Analytic vs PyTorch"
   ]
  },
  {
   "cell_type": "code",
   "execution_count": 1,
   "metadata": {},
   "outputs": [],
   "source": [
    "import torch\n",
    "import numpy as np\n",
    "\n",
    "# Small dummy data (1 feature, 5 samples)\n",
    "np.random.seed(0)\n",
    "\n",
    "X_np = np.random.randn(1, 5)\n",
    "y_np = np.random.randn(1, 5)\n",
    "m = X_np.shape[1]\n",
    "\n",
    "# Convert to torch tensors\n",
    "X = torch.tensor(X_np, dtype=torch.float32)\n",
    "y = torch.tensor(y_np, dtype=torch.float32)\n",
    "\n",
    "# Initialize weights and bias \n",
    "w_np = np.random.randn(1, 1)\n",
    "b_np = np.random.randn(1, 1)\n",
    "\n",
    "# Convert to torch tensors\n",
    "w = torch.tensor(w_np, dtype=torch.float32, requires_grad=True)\n",
    "b = torch.tensor(b_np, dtype=torch.float32, requires_grad=True)\n",
    "\n",
    "# ----------- PyTorch gradient computation -------------\n",
    "z = w.T @ X + b\n",
    "loss = torch.sum((z - y) ** 2) / m\n",
    "loss.backward()\n",
    "\n",
    "# Extract gradients from PyTorch\n",
    "dw_torch = w.grad.clone().detach().numpy()\n",
    "db_torch = b.grad.clone().detach().numpy()\n",
    "\n",
    "# ----------- Analytic gradient computation (NumPy) -------------\n",
    "z_np = w_np.T @ X_np + b_np\n",
    "dw_np = 2*(1/m) * X_np @ (z_np - y_np).T\n",
    "db_np = 2*(1/m) * np.ones((1, m)) @ (z_np - y_np).T\n",
    "\n",
    "# ----------- Compare -------------\n",
    "print(\"Gradient w.r.t w (PyTorch):\", dw_torch)\n",
    "print(\"Gradient w.r.t w (Analytic):\", dw_np)\n",
    "print(\"Difference:\", np.abs(dw_np - dw_torch))\n",
    "\n",
    "print(\"\\nGradient w.r.t b (PyTorch):\", db_torch)\n",
    "print(\"Gradient w.r.t b (Analytic):\", db_np)\n",
    "print(\"Difference:\", np.abs(db_np - db_torch))\n"
   ]
  }
 ],
 "metadata": {
  "kernelspec": {
   "display_name": "Python 3 (ipykernel)",
   "language": "python",
   "name": "python3"
  }
 },
 "nbformat": 4,
 "nbformat_minor": 2
}
