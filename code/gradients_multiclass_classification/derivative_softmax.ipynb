{
 "cells": [
  {
   "cell_type": "markdown",
   "id": "9977e301",
   "metadata": {},
   "source": [
    "## Derivative of SoftMax"
   ]
  },
  {
   "cell_type": "code",
   "execution_count": 3,
   "id": "a0a5f206",
   "metadata": {},
   "outputs": [
    {
     "name": "stdout",
     "output_type": "stream",
     "text": [
      "Manual softmax output:\n",
      "[0.09003057 0.24472847 0.66524096]\n",
      "\n",
      "Manual Jacobian:\n",
      "[[ 0.08192507 -0.02203304 -0.05989202]\n",
      " [-0.02203304  0.18483645 -0.1628034 ]\n",
      " [-0.05989202 -0.1628034   0.22269543]]\n",
      "\n",
      "PyTorch Jacobian:\n",
      "[[ 0.08192507 -0.02203305 -0.05989202]\n",
      " [-0.02203305  0.18483646 -0.1628034 ]\n",
      " [-0.05989202 -0.1628034   0.22269543]]\n",
      "\n",
      "Difference (Manual - PyTorch):\n",
      "[[-2.71092000e-09  5.48208919e-10  3.00065944e-10]\n",
      " [ 5.48208919e-10 -1.56301046e-08 -5.40720094e-09]\n",
      " [ 3.00065944e-10 -5.40720094e-09  1.38184478e-09]]\n"
     ]
    }
   ],
   "source": [
    "import numpy as np\n",
    "import torch\n",
    "\n",
    "# ----- Step 1: Softmax -----\n",
    "def softmax(z):\n",
    "    e_z = np.exp(z - np.max(z))\n",
    "    return e_z / np.sum(e_z)\n",
    "\n",
    "# ----- Step 2: Derivative of Softmax (Jacobian) using for-loop -----\n",
    "def softmax_jacobian_loop(s):\n",
    "    k = len(s)\n",
    "    jac = np.zeros((k, k))\n",
    "    for i in range(k):\n",
    "        for j in range(k):\n",
    "            if i == j:\n",
    "                jac[i, j] = s[i] * (1 - s[i])\n",
    "            else:\n",
    "                jac[i, j] = -s[i] * s[j]\n",
    "    return jac\n",
    "\n",
    "# ----- Step 3: Manual Computation -----\n",
    "z_np = np.array([1.0, 2.0, 3.0])\n",
    "s_np = softmax(z_np)\n",
    "jac_np = softmax_jacobian_loop(s_np)\n",
    "\n",
    "print(\"Manual softmax output:\")\n",
    "print(s_np)\n",
    "print(\"\\nManual Jacobian:\")\n",
    "print(jac_np)\n",
    "\n",
    "# ----- Step 4: PyTorch autograd -----\n",
    "z_torch = torch.tensor(z_np, dtype=torch.float32, requires_grad=True)\n",
    "\n",
    "def torch_softmax(z):\n",
    "    return torch.softmax(z, dim=0)\n",
    "\n",
    "jac_torch = torch.autograd.functional.jacobian(torch_softmax, z_torch)\n",
    "\n",
    "print(\"\\nPyTorch Jacobian:\")\n",
    "print(jac_torch.detach().numpy())\n",
    "\n",
    "# ----- Step 5: Difference -----\n",
    "diff = jac_np - jac_torch.detach().numpy()\n",
    "print(\"\\nDifference (Manual - PyTorch):\")\n",
    "print(diff)\n"
   ]
  }
 ],
 "metadata": {
  "kernelspec": {
   "display_name": "Python 3 (ipykernel)",
   "language": "python",
   "name": "python3"
  },
  "language_info": {
   "codemirror_mode": {
    "name": "ipython",
    "version": 3
   },
   "file_extension": ".py",
   "mimetype": "text/x-python",
   "name": "python",
   "nbconvert_exporter": "python",
   "pygments_lexer": "ipython3",
   "version": "3.10.14"
  }
 },
 "nbformat": 4,
 "nbformat_minor": 5
}
